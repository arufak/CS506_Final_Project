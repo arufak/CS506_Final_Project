{
  "nbformat": 4,
  "nbformat_minor": 0,
  "metadata": {
    "colab": {
      "provenance": []
    },
    "kernelspec": {
      "name": "python3",
      "display_name": "Python 3"
    },
    "language_info": {
      "name": "python"
    }
  },
  "cells": [
    {
      "cell_type": "code",
      "source": [
        "%%capture\n",
        "# install the package used for statistical analyses\n",
        "!pip install pingouin\n",
        "!pip install stargazer\n",
        "!pip install pyfixest"
      ],
      "metadata": {
        "id": "vH-xr8lMjCAZ"
      },
      "execution_count": null,
      "outputs": []
    },
    {
      "cell_type": "code",
      "source": [
        "# import modules and functions\n",
        "import numpy as np\n",
        "import pandas as pd\n",
        "import pingouin as pg\n",
        "import statsmodels.api as sm\n",
        "import statsmodels.formula.api as smf\n",
        "from stargazer.stargazer import Stargazer\n",
        "import pyfixest as pf"
      ],
      "metadata": {
        "id": "CZt05JCijWTo"
      },
      "execution_count": null,
      "outputs": []
    },
    {
      "cell_type": "code",
      "source": [
        "# for reading data on Colab\n",
        "from google.colab import drive\n",
        "drive.mount('/content/drive')"
      ],
      "metadata": {
        "id": "qEReVco-jYgV"
      },
      "execution_count": null,
      "outputs": []
    },
    {
      "cell_type": "code",
      "execution_count": null,
      "metadata": {
        "id": "9AkOL0dRh8c_"
      },
      "outputs": [],
      "source": [
        "# load the data\n",
        "df = pd.read_csv('/content/drive/MyDrive/BA472 Project/FinalProject.csv')"
      ]
    }
  ]
}